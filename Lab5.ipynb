{
 "cells": [
  {
   "cell_type": "markdown",
   "metadata": {},
   "source": [
    "# Lab 5: Vector space models for semantics"
   ]
  },
  {
   "cell_type": "markdown",
   "metadata": {},
   "source": [
    "In this lab, you will learn how to build and use vector space models of word meanings. You will need to be able to install new python libraries on your own computer.\n",
    "\n",
    "**Add, commit, and push this Jupyter Notebook to your GitHub repo by Wednesday, October 19, at 11:59pm EDT.**\n"
   ]
  },
  {
   "cell_type": "markdown",
   "metadata": {},
   "source": [
    "## Installing gensim"
   ]
  },
  {
   "cell_type": "markdown",
   "metadata": {},
   "source": [
    "**If you have installed gensim previously**, it might be a good idea to upgrade it with pip3.\n",
    "\n",
    "``python3 -m pip install --upgrade gensim``\n",
    "\n",
    "**If you don't already have gensim installed**, you will need to install it. As I've said before, this is something that a CS major or minor at your level should be able to do without assistance. I hope by the end of this class, you will all have figured this out! Here's what I would recommend:\n",
    "\n",
    "1. Launch Anacona Navigator. Go to the little package explorer thing on the left, and use the GUI to install gensim. Then launch jupyter from within Anaconda Navigator.\n",
    "\n",
    "2. Launch a terminal. Type this\n",
    "\n",
    "``python3 -m pip install jupyter``\n",
    "\n",
    "``python3 -m pip install gensim``\n",
    "\n",
    "``jupyter notebook``\n",
    "\n",
    "If neither of those works, come to my office hours (TWTh 8:30-9:30am on Zoom, link on Canvas.)"
   ]
  },
  {
   "cell_type": "markdown",
   "metadata": {},
   "source": [
    "## 1. Importing some libraries"
   ]
  },
  {
   "cell_type": "code",
   "execution_count": 1,
   "metadata": {},
   "outputs": [],
   "source": [
    "%matplotlib inline\n",
    "import numpy as np\n",
    "import matplotlib.pyplot as plt\n",
    "import gensim\n",
    "import re\n",
    "import nltk\n",
    "from sklearn.manifold import TSNE\n",
    "from sklearn.decomposition import PCA\n",
    "from gensim.models import Word2Vec\n",
    "\n"
   ]
  },
  {
   "cell_type": "markdown",
   "metadata": {},
   "source": [
    "## 2. Preparing the data "
   ]
  },
  {
   "cell_type": "markdown",
   "metadata": {},
   "source": [
    "We first need to prepare some data to put it in the format that gensim is expecting. We're going to be building a model using some 19th century literature, which I've compiled into a single text file called <code>all19thcent.txt.</code>\n",
    "\n",
    "Open the file, and read the text into a single string, removing the final end of line character (<code>\\n</code>).\n",
    "\n",
    "Then sentence-tokenize the text into a list of sentences using <code>nltk.sent_tokenize</code>.\n",
    "\n",
    "Then word tokenize each sentence into a list of tokens using <code>nltk.word_tokenize</code> \n",
    "\n",
    "*(Hint: You have already done this before in a lab, so go back and look at earlier labs if you're having trouble. Please try to do this yourself without asking for help.)*\n",
    "\n",
    "At the end, you should have a list of lists. The print statement at the end of the next cell should yield the following output. If it doesn't you did something wrong. \n",
    "\n",
    "<code>['``', 'She', 'knows', 'better', '.', \"''\"]</code>\n"
   ]
  },
  {
   "cell_type": "code",
   "execution_count": 2,
   "metadata": {},
   "outputs": [
    {
     "name": "stdout",
     "output_type": "stream",
     "text": [
      "['``', 'She', 'knows', 'better', '.', \"''\"]\n"
     ]
    }
   ],
   "source": [
    "alltext = \"\"   # where to store the full text of the text file\n",
    "toksents = []  # where to store the list of lists (i.e., sentences of word tokens)\n",
    "\n",
    "# open the all19thcent.txt files and read the whole file into one string.\n",
    "\n",
    "# replace all \"\\n\" in the file with a space (i.e, \" \")\n",
    "\n",
    "# break the file into a list of sentences with nltk.sent_tokenize\n",
    "\n",
    "# break each sentence into a list of tokens with nltk.word_tokenize\n",
    "# store that list of lists in toksents\n",
    "\n",
    "\n",
    "# Uncomment the following to confirm your output is correct.\n",
    "# print(toksents[1005])\n",
    "  \n"
   ]
  },
  {
   "cell_type": "markdown",
   "metadata": {},
   "source": [
    "**The code block above will take a while to complete. If you're not sure whether the code is running, check in the brackets to the left of the cell. If you see <code>*</code>, that means the command is still executing, so just wait until you see a number in those brackets.**"
   ]
  },
  {
   "cell_type": "markdown",
   "metadata": {},
   "source": [
    "## 3. Building a word2vec model"
   ]
  },
  {
   "cell_type": "markdown",
   "metadata": {},
   "source": [
    "Now you are ready to build your very first word2vec model. Run the command below, and <b>do not proceed with anything until you see the message</b> <code>\"model built!\"</code>. If you're not sure what's happening, check in the brackets to the left of the cell. If you see <code>*</code>, that means the command is still executing, so just wait until you see a number in those brackets."
   ]
  },
  {
   "cell_type": "code",
   "execution_count": 3,
   "metadata": {},
   "outputs": [
    {
     "name": "stdout",
     "output_type": "stream",
     "text": [
      "model built!\n"
     ]
    }
   ],
   "source": [
    "model = Word2Vec(toksents, vector_size=100, window=5, min_count=3, workers=4)\n",
    "print(\"model built!\")"
   ]
  },
  {
   "cell_type": "markdown",
   "metadata": {},
   "source": [
    "### Q1: What do you think the <code>vector_size, window</code> and <code>min_count</code> parameters in the call to Word2Vec means? Explain each one. Feel to refer to the documentation for gensim."
   ]
  },
  {
   "cell_type": "markdown",
   "metadata": {},
   "source": [
    "**Your answer to Q1 goes here**\n"
   ]
  },
  {
   "cell_type": "markdown",
   "metadata": {},
   "source": [
    "Congratulations! You have built your first word2vec model! Now you can start querying the words in that model. The individual values in the vectors won't mean anything to a human, but you can print them out like this:"
   ]
  },
  {
   "cell_type": "code",
   "execution_count": 4,
   "metadata": {
    "scrolled": true
   },
   "outputs": [
    {
     "data": {
      "text/plain": [
       "array([ 2.1816373e+00,  1.5324526e+00,  1.0292571e+00,  2.9880348e-01,\n",
       "       -1.4363272e+00,  4.4445646e-01, -7.7316439e-01,  3.8230139e-01,\n",
       "       -5.9580183e-01, -1.6443588e+00,  7.6936525e-01, -2.2012980e+00,\n",
       "       -1.1080650e+00, -9.5856357e-01, -1.8824133e+00,  6.5128535e-01,\n",
       "       -6.9587553e-01,  1.8611709e+00,  1.2279252e+00,  5.6285405e-01,\n",
       "       -6.1418629e-01, -7.4621898e-01, -1.2245601e+00, -6.6432589e-01,\n",
       "       -3.7703562e-01, -1.0433106e+00, -8.0180779e-02,  5.9762532e-01,\n",
       "        7.5880730e-01, -1.2911198e+00,  2.4014103e+00,  5.6375653e-01,\n",
       "       -7.5655907e-01, -4.0971573e-02,  1.2643528e+00,  8.4280342e-01,\n",
       "        1.8268418e+00, -6.3384855e-01, -1.9812253e+00, -1.7964540e+00,\n",
       "       -4.6341324e-01, -1.7897420e+00, -4.8481766e-02, -2.9491171e-01,\n",
       "        4.3474454e-01,  1.1433384e+00, -4.2426236e-02,  2.3361538e-01,\n",
       "       -3.0972153e-01, -1.2882227e+00,  2.1312383e-04, -1.4199573e+00,\n",
       "       -2.4165286e-01, -1.1552240e+00, -1.8452890e+00, -3.9174184e-01,\n",
       "       -8.8929737e-01, -2.6419733e+00,  1.0727551e+00, -1.7539138e+00,\n",
       "        6.7573255e-01,  6.0781211e-01, -3.5322386e-01, -5.5066723e-01,\n",
       "        1.0461556e+00,  9.3278491e-01, -1.0165349e+00,  1.5958005e-01,\n",
       "        2.9176557e+00,  2.0523788e-01, -1.3005663e-02,  3.6681440e-01,\n",
       "       -3.3511871e-01,  7.2900420e-01,  3.4918720e-01,  1.5891525e-01,\n",
       "       -7.3182261e-01, -7.6688123e-01, -5.1289690e-01,  1.4343222e+00,\n",
       "        5.2538794e-01,  1.4385587e-01, -1.2942188e+00, -3.7037367e-01,\n",
       "        5.4153115e-01,  1.3134249e+00,  6.6869366e-01, -2.2922547e+00,\n",
       "       -4.1761306e-01, -1.2559518e+00, -1.4674331e-01, -8.8970381e-01,\n",
       "        1.1615982e+00,  6.5899652e-01,  1.5898865e-01, -1.6870745e+00,\n",
       "        2.0914159e+00, -1.0599513e+00, -2.3046191e+00, -1.7392261e+00],\n",
       "      dtype=float32)"
      ]
     },
     "execution_count": 4,
     "metadata": {},
     "output_type": "execute_result"
    }
   ],
   "source": [
    "model.wv['first']"
   ]
  },
  {
   "cell_type": "markdown",
   "metadata": {},
   "source": [
    "## 4. Using word2vec word embeddings"
   ]
  },
  {
   "cell_type": "markdown",
   "metadata": {},
   "source": [
    "The cool part is using the vectors to learn about how words are related to one another. In class we learned that you can use cosine similarity to do this. Below, we use the built-in function <code>similarity</code> to calculate the cosine similarity between two word vectors. Try running the code in the three cells below:"
   ]
  },
  {
   "cell_type": "code",
   "execution_count": 5,
   "metadata": {},
   "outputs": [
    {
     "data": {
      "text/plain": [
       "0.8787101"
      ]
     },
     "execution_count": 5,
     "metadata": {},
     "output_type": "execute_result"
    }
   ],
   "source": [
    "model.wv.similarity('girl', 'woman')"
   ]
  },
  {
   "cell_type": "code",
   "execution_count": 6,
   "metadata": {},
   "outputs": [
    {
     "data": {
      "text/plain": [
       "0.0023699796"
      ]
     },
     "execution_count": 6,
     "metadata": {},
     "output_type": "execute_result"
    }
   ],
   "source": [
    "model.wv.similarity('roof', 'whether')"
   ]
  },
  {
   "cell_type": "code",
   "execution_count": 7,
   "metadata": {},
   "outputs": [
    {
     "data": {
      "text/plain": [
       "0.48770458"
      ]
     },
     "execution_count": 7,
     "metadata": {},
     "output_type": "execute_result"
    }
   ],
   "source": [
    "model.wv.similarity(\"chair\", \"carpet\")"
   ]
  },
  {
   "cell_type": "markdown",
   "metadata": {},
   "source": [
    "### Q2: What values did you get? What do the values mean and why? Why did you need to look at more than one similarity value to be able to interpret the results?"
   ]
  },
  {
   "cell_type": "markdown",
   "metadata": {},
   "source": [
    "**Your answer to Q2 goes here**\n"
   ]
  },
  {
   "cell_type": "markdown",
   "metadata": {},
   "source": [
    "The cells below show you the different things you can do with gensim on a word2vec word embedding model. \n",
    "\n",
    "Try each one out, and experiment with using different words than the ones I've provided below. Remember that this is literature from the 19th century! Probe the model to try to find out interesting thigns about how language might have been different in the 1800s.\n",
    "\n",
    "Then experiment with very common words and rarer words to see whether the model has captured helpful similarity information.\n",
    "\n",
    "(Note also: if the word doesn't appear in the model, you'll get an ugly error message.)"
   ]
  },
  {
   "cell_type": "code",
   "execution_count": 8,
   "metadata": {},
   "outputs": [
    {
     "data": {
      "text/plain": [
       "'tree'"
      ]
     },
     "execution_count": 8,
     "metadata": {},
     "output_type": "execute_result"
    }
   ],
   "source": [
    "model.wv.doesnt_match([\"man\", \"woman\", \"child\", \"tree\"])"
   ]
  },
  {
   "cell_type": "code",
   "execution_count": 9,
   "metadata": {},
   "outputs": [
    {
     "data": {
      "text/plain": [
       "[('girl', 0.8573396801948547),\n",
       " ('child', 0.7960748672485352),\n",
       " ('baby', 0.7815583348274231),\n",
       " ('lad', 0.7361873388290405),\n",
       " ('creature', 0.7177210450172424),\n",
       " ('maid', 0.6958818435668945),\n",
       " ('fellow', 0.6885150671005249),\n",
       " ('widow', 0.6631909608840942),\n",
       " ('servant', 0.6553676128387451),\n",
       " ('creetur', 0.6421812176704407)]"
      ]
     },
     "execution_count": 9,
     "metadata": {},
     "output_type": "execute_result"
    }
   ],
   "source": [
    "model.wv.most_similar(positive=['woman', 'boy'], negative=['man'])"
   ]
  },
  {
   "cell_type": "code",
   "execution_count": 10,
   "metadata": {},
   "outputs": [
    {
     "data": {
      "text/plain": [
       "[('hot', 0.6575304865837097),\n",
       " ('warm', 0.6392249464988708),\n",
       " ('neat', 0.6111586689949036),\n",
       " ('cheerful', 0.601475179195404),\n",
       " ('big', 0.6004123687744141),\n",
       " ('comfortable', 0.600188136100769),\n",
       " ('fresh', 0.594236433506012),\n",
       " ('dull', 0.5917349457740784),\n",
       " ('clear', 0.581011176109314),\n",
       " ('clean', 0.580938458442688)]"
      ]
     },
     "execution_count": 10,
     "metadata": {},
     "output_type": "execute_result"
    }
   ],
   "source": [
    "model.wv.most_similar(\"cool\")"
   ]
  },
  {
   "cell_type": "markdown",
   "metadata": {},
   "source": [
    "### Q3: Name one of two interesting observations about 1800s language you were able to make in your experimentation. Are the results what you expected?"
   ]
  },
  {
   "cell_type": "markdown",
   "metadata": {},
   "source": [
    "<b>Enter your answer to Q3 here</b>"
   ]
  },
  {
   "cell_type": "markdown",
   "metadata": {},
   "source": [
    "### Q4: This model was built on a very small corpus (3.5 million words). How well does this model capture word similarities? What are some strengths and weaknesses you observed?"
   ]
  },
  {
   "cell_type": "markdown",
   "metadata": {},
   "source": [
    "<b>Enter your answer to Q4 here</b>\n"
   ]
  },
  {
   "cell_type": "markdown",
   "metadata": {},
   "source": [
    "## 5. Comparing two different models "
   ]
  },
  {
   "cell_type": "markdown",
   "metadata": {},
   "source": [
    "Now let's build a model on a more contemporary corpus! This corpus is a mix of movie scripts and the free-use portion of the Corpus of Contemporary English (COCA), a balanced corpus containing literature, plays, news articles, books, magazines, and other written texts from 1960 to the present.\n",
    "\n",
    "Follow the same procedure as you did before to read in and tokenize the file, which is called <code>allcontempo.txt.</code>\n",
    "\n",
    "When you uncomment the last line in the cell below, you should get the following output.\n",
    "\n",
    "<code>['His', 'clothes', 'reflect', 'his', 'high', 'station', 'at', 'Ames', ':', 'a', 'gray', 'felt', 'bowler', 'hat', ',', 'and', 'an', 'expensive', ',', 'tailored', 'overcoat', ',', 'with', 'a', 'carnation', 'in', 'its', 'lapel', 'and', 'two', 'silk', 'handkerchiefs', 'peeking', 'up', 'from', 'its', 'breast', 'pocket', '.']</code>"
   ]
  },
  {
   "cell_type": "code",
   "execution_count": 1,
   "metadata": {},
   "outputs": [],
   "source": [
    "alltextcontempo = \"\"   # where to store the full text of the text file\n",
    "toksentscontempo = []  # where to store the list of lists (i.e., sentences of word tokens)\n",
    "\n",
    "# FYI, I recommend using these arguments when opening the file since\n",
    "# they will handle weird encoding errors.\n",
    "# f = open(\"allcontempo.txt\", errors=\"replace\", encoding=\"utf-8\")\n",
    "\n",
    "# read in the whole file into a string\n",
    "\n",
    "\n",
    "# replace all \"\\n\" in the file with a space (i.e, \" \")\n",
    "\n",
    "\n",
    "# break the file into a list of sentences with nltk.sent_tokenize\n",
    "\n",
    "\n",
    "# break each sentence into a list of tokens with nltk.word_tokenize\n",
    "# store that list of lists in toksents\n",
    "\n",
    "\n",
    "# Uncomment the following to confirm your output is correct.\n",
    "# print(toksentscontempo[1000])\n",
    "\n"
   ]
  },
  {
   "cell_type": "markdown",
   "metadata": {},
   "source": [
    "Now build a word2vec model as you did with the 19th century literature by running the cell below. We're saving the model to a different variable name, <code>contempomodel</code>, so that we can compare this model with the 19th century literature model.\n",
    "\n",
    "Don't forget: when you run the command to build the word2vec model, <b>do not proceed with anything until you see the message</b> <code>\"model built!\"</code>. If you're not sure what's happening, check in the brackets to the left of the cell. If you see <code>*</code>, that means the command is still executing, so just wait until you see a number in those brackets."
   ]
  },
  {
   "cell_type": "code",
   "execution_count": 12,
   "metadata": {},
   "outputs": [
    {
     "name": "stdout",
     "output_type": "stream",
     "text": [
      "model built!\n"
     ]
    }
   ],
   "source": [
    "modelcontempo = Word2Vec(toksentscontempo, vector_size=100, window=5, min_count=3, workers=4)\n",
    "print(\"model built!\")"
   ]
  },
  {
   "cell_type": "markdown",
   "metadata": {},
   "source": [
    "Let's see how these two models are different and how they are the same. Experiment with setting the <code>checkme</code> variable to several different words and executing the two cells below. Try to think of words you think probably haven't changed much since the 19th century and words you think might have changed since then. "
   ]
  },
  {
   "cell_type": "code",
   "execution_count": 13,
   "metadata": {},
   "outputs": [
    {
     "data": {
      "text/plain": [
       "[('hot', 0.6575304865837097),\n",
       " ('warm', 0.6392249464988708),\n",
       " ('neat', 0.6111586689949036),\n",
       " ('cheerful', 0.601475179195404),\n",
       " ('big', 0.6004123687744141),\n",
       " ('comfortable', 0.600188136100769),\n",
       " ('fresh', 0.594236433506012),\n",
       " ('dull', 0.5917349457740784),\n",
       " ('clear', 0.581011176109314),\n",
       " ('clean', 0.580938458442688)]"
      ]
     },
     "execution_count": 13,
     "metadata": {},
     "output_type": "execute_result"
    }
   ],
   "source": [
    "checkme = \"cool\"\n",
    "model.wv.most_similar(checkme)"
   ]
  },
  {
   "cell_type": "code",
   "execution_count": 14,
   "metadata": {},
   "outputs": [
    {
     "data": {
      "text/plain": [
       "[('warm', 0.7857797145843506),\n",
       " ('tight', 0.7581393122673035),\n",
       " ('shaking', 0.7410629987716675),\n",
       " ('sweet', 0.7395565509796143),\n",
       " ('soft', 0.736686110496521),\n",
       " ('wet', 0.7306132912635803),\n",
       " ('cold', 0.7267618775367737),\n",
       " ('breathing', 0.7103124856948853),\n",
       " ('naked', 0.707240641117096),\n",
       " ('slowly', 0.7004542350769043)]"
      ]
     },
     "execution_count": 14,
     "metadata": {},
     "output_type": "execute_result"
    }
   ],
   "source": [
    "modelcontempo.wv.most_similar(checkme)"
   ]
  },
  {
   "cell_type": "markdown",
   "metadata": {},
   "source": [
    "### Q5: What words did you try? What did the models tell you about these words? Which were about the same in the two models and which were different? Answer thoughtfully."
   ]
  },
  {
   "cell_type": "markdown",
   "metadata": {},
   "source": [
    "<b>Enter your answer to Q5 here</b>\n"
   ]
  },
  {
   "cell_type": "markdown",
   "metadata": {},
   "source": [
    "## 6. Comparing a small model with a big model"
   ]
  },
  {
   "cell_type": "markdown",
   "metadata": {},
   "source": [
    "The models we built above were kind of weak because they were built on such small corpora (about 3.5 million words each). Fortunately, I have provided you with a huge pre-built model, built on 300 billion words of Google news. You can load it by executing the code in the cell below.\n",
    "\n",
    "<b>Note: It will take a minute or two to load!</b> Wait until you see <code>\"big model loaded\"</code> printed out below the cell. You can also check for the <code>*</code> in the brackets to the left of the cell you are executing."
   ]
  },
  {
   "cell_type": "code",
   "execution_count": 15,
   "metadata": {},
   "outputs": [
    {
     "name": "stdout",
     "output_type": "stream",
     "text": [
      "big model loaded!\n"
     ]
    }
   ],
   "source": [
    "bigmodel = gensim.models.KeyedVectors.load_word2vec_format(\"GoogleNews-vectors-negative300-SLIM.bin\", binary=True)\n",
    "print(\"big model loaded!\")"
   ]
  },
  {
   "cell_type": "markdown",
   "metadata": {},
   "source": [
    "Because this model was built in a slightly different way, you can run all of the above commands without using the <code>.wv</code> after the model name, like so:"
   ]
  },
  {
   "cell_type": "code",
   "execution_count": 16,
   "metadata": {},
   "outputs": [
    {
     "data": {
      "text/plain": [
       "[('Cool', 0.5849888324737549),\n",
       " ('cooler', 0.5534803867340088),\n",
       " ('coolest', 0.5431790351867676),\n",
       " ('coolness', 0.5307181477546692),\n",
       " ('toasty', 0.527403712272644),\n",
       " ('warm', 0.5268722772598267),\n",
       " ('hot', 0.5151149034500122),\n",
       " ('cooled', 0.5131838321685791),\n",
       " ('cools', 0.511819064617157),\n",
       " ('supercool', 0.5060998201370239)]"
      ]
     },
     "execution_count": 16,
     "metadata": {},
     "output_type": "execute_result"
    }
   ],
   "source": [
    "bigmodel.most_similar(checkme)"
   ]
  },
  {
   "cell_type": "markdown",
   "metadata": {},
   "source": [
    "### Q6: Experiment with this model using the other commands you learned about above. (Again, don't forget to leave out the <code>wv</code> when probing the big pre-trained model.) How does this model compare to the smaller models you built? For instance: do you think the information it is providing is better or more accurate? how is it different? why do you think this might be?"
   ]
  },
  {
   "cell_type": "markdown",
   "metadata": {},
   "source": [
    "<b>Enter your answer to Q6 here</b>\n",
    "<font color=\"red\">"
   ]
  },
  {
   "cell_type": "markdown",
   "metadata": {},
   "source": [
    "## 6. Visualizing word vectors"
   ]
  },
  {
   "cell_type": "markdown",
   "metadata": {},
   "source": [
    "In class, I showed you some plots of word vectors, where the 300 dimensions had been projected down to 2 dimensions. Here we will use the PCA dimensionality reduction method I mentioned in class. The code in the cell below will take word pairs, in which the first word is related in some way to the second word, and plot them in two dimensions. Execute this cell, and you should see a nice graph underneath."
   ]
  },
  {
   "cell_type": "code",
   "execution_count": 17,
   "metadata": {},
   "outputs": [
    {
     "data": {
      "image/png": "[encoded data removed]",
      "text/plain": [
       "<Figure size 432x288 with 1 Axes>"
      ]
     },
     "metadata": {
      "needs_background": "light"
     },
     "output_type": "display_data"
    }
   ],
   "source": [
    "wordpairs = {\"Madrid\":\"Spain\", \"Paris\":\"France\",  \"Berlin\":\"Germany\", \"Beijing\":\"China\", \"Tokyo\":\"Japan\"}\n",
    "\n",
    "# Go get the word vectors for these words and \n",
    "# then store them so you can use them later on.\n",
    "vecwords = []  # stores the words above\n",
    "vecs = []      # stores the vectors for each word\n",
    "for k,v in wordpairs.items():\n",
    "    kvec = bigmodel[k]\n",
    "    vvec = bigmodel[v]\n",
    "    vecs.append(kvec)\n",
    "    vecwords.append(k)\n",
    "    vecs.append(vvec)\n",
    "    vecwords.append(v)\n",
    "    \n",
    "# PCA is a way to project multiple dimensions down to \n",
    "# fewer dimensions, which we are doing here so we can \n",
    "# visualize the word vectors.\n",
    "pca = PCA(n_components=2, whiten=True)\n",
    "vectors2d = pca.fit(vecs).transform(vecs)\n",
    "\n",
    "\n",
    "# This is just some ugly matplotlib code for plotting\n",
    "# the 2-D vectors and visualizing them with different colors.\n",
    "i = 2\n",
    "for point, word in zip(vectors2d, vecwords):\n",
    "    if i%2 == 0:\n",
    "        plt.scatter(point[0], point[1], c='r')\n",
    "    else:\n",
    "        plt.scatter(point[0], point[1], c='b')\n",
    "    i += 1\n",
    "    \n",
    "    plt.annotate(\n",
    "            word, \n",
    "            xy=(point[0], point[1]),\n",
    "            xytext=(7, 6),\n",
    "            textcoords='offset points',\n",
    "            ha='left' ,\n",
    "            va='top',\n",
    "            size=\"medium\"\n",
    "            )\n"
   ]
  },
  {
   "cell_type": "markdown",
   "metadata": {},
   "source": [
    "### Q7: In the code above, replace the word pairs with three other word pairs that share a relationship. Don't use world capitals. Try something else, like morphological variations (big ~ bigger) or common semantic relationship (a table is a piece of furniture). I'll run your code to see the graph. Briefly discuss below what the graph demonstrates (or fails to demonstrate)."
   ]
  },
  {
   "cell_type": "markdown",
   "metadata": {},
   "source": [
    "<b>Enter your answer to Q7 here</b>\n"
   ]
  },
  {
   "cell_type": "markdown",
   "metadata": {},
   "source": [
    "The cell below does something similar: it takes two lists of words and plots one in blue and one in red. If the words in one list are very related to one another and the words in the other list are very related to one another, you should see the red and blue dots clustering in different parts of the space."
   ]
  },
  {
   "cell_type": "code",
   "execution_count": 18,
   "metadata": {},
   "outputs": [
    {
     "data": {
      "image/png": "[encoded data removed]",
      "text/plain": [
       "<Figure size 432x288 with 1 Axes>"
      ]
     },
     "metadata": {
      "needs_background": "light"
     },
     "output_type": "display_data"
    }
   ],
   "source": [
    "# Some words associated with 2 different categories: work and school\n",
    "\n",
    "vecwords1 = \"commute boss office paperwork\".split()  \n",
    "vecwords2 = \"teacher studying library exams\".split()\n",
    "vecs = []\n",
    "vecwords = []\n",
    "\n",
    "# Get their vectors\n",
    "for w in vecwords1:\n",
    "    v = bigmodel[w]\n",
    "    vecs.append(v)\n",
    "    vecwords.append(w)\n",
    "\n",
    "for w in vecwords2:\n",
    "    v = bigmodel[w]\n",
    "    vecs.append(v)\n",
    "    vecwords.append(w)\n",
    "\n",
    "    \n",
    "#tsne = TSNE(n_components=2, random_state=0)\n",
    "#vectors2d = tsne.fit_transform(vecs)\n",
    "\n",
    "# Do the PCA to reduce to 2 dimensions\n",
    "pca = PCA(n_components=2, whiten=True)\n",
    "vectors2d = pca.fit(vecs).transform(vecs)\n",
    "\n",
    "# Again, ugly matplotlib code to create visualization\n",
    "i = 0\n",
    "for point, word in zip(vectors2d, vecwords):\n",
    "    if i < len(vecwords1):\n",
    "        plt.scatter(point[0], point[1], c='r')\n",
    "    else:\n",
    "        plt.scatter(point[0], point[1], c='b')\n",
    "    i += 1\n",
    "    \n",
    "    plt.annotate(\n",
    "            word, \n",
    "            xy=(point[0], point[1]),\n",
    "            xytext=(7, 6),\n",
    "            textcoords='offset points',\n",
    "            ha='left' ,\n",
    "            va='top',\n",
    "            size=\"medium\"\n",
    "            )"
   ]
  },
  {
   "cell_type": "markdown",
   "metadata": {},
   "source": [
    "### Q8: In the code above, replace the word lists with other groups of words you think are related.  I'll run your code to see the graph. Briefly discuss below what the graph demonstrates (or fails to demonstrate)."
   ]
  },
  {
   "cell_type": "markdown",
   "metadata": {},
   "source": [
    "<b>Enter your answer to Q8 here</b>\n"
   ]
  },
  {
   "cell_type": "markdown",
   "metadata": {},
   "source": [
    "## 7. Verifying and submitting your work"
   ]
  },
  {
   "cell_type": "markdown",
   "metadata": {},
   "source": [
    "You will be submitting this Jupyter Notebook to Canvas. \n",
    "\n",
    "Make sure you've answered every <b>Q</b> question.\n",
    "\n",
    "Make sure you've written code wherever required. \n",
    "\n",
    "Go up to the Kernel menu and select Restart and Run All. This will run all of the code you've written. Make sure there are no errors.\n",
    "\n",
    "Add, commit, and push this Jupyter notebook to your repo on GitHub by the deadline, October 19, 11:59pm EDT."
   ]
  }
 ],
 "metadata": {
  "kernelspec": {
   "display_name": "Python 3",
   "language": "python",
   "name": "python3"
  },
  "language_info": {
   "codemirror_mode": {
    "name": "ipython",
    "version": 3
   },
   "file_extension": ".py",
   "mimetype": "text/x-python",
   "name": "python",
   "nbconvert_exporter": "python",
   "pygments_lexer": "ipython3",
   "version": "3.9.1"
  }
 },
 "nbformat": 4,
 "nbformat_minor": 2
}
